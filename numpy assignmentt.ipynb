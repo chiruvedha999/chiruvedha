{
 "cells": [
  {
   "cell_type": "code",
   "execution_count": 174,
   "id": "ab2d6daa",
   "metadata": {},
   "outputs": [],
   "source": [
    "import numpy as np"
   ]
  },
  {
   "cell_type": "markdown",
   "id": "a8438f23",
   "metadata": {},
   "source": [
    "# Write a program to create a 5 dimensional array with all zeros and ones\n"
   ]
  },
  {
   "cell_type": "code",
   "execution_count": 77,
   "id": "48aa0638",
   "metadata": {},
   "outputs": [],
   "source": [
    "zeros=np.array([0,0,0,0],ndmin=5)\n",
    "\n",
    "        "
   ]
  },
  {
   "cell_type": "code",
   "execution_count": 78,
   "id": "6e74381a",
   "metadata": {},
   "outputs": [
    {
     "name": "stdout",
     "output_type": "stream",
     "text": [
      "[[[[[0 0 0 0]]]]]\n"
     ]
    }
   ],
   "source": [
    "print(zeros)"
   ]
  },
  {
   "cell_type": "code",
   "execution_count": 79,
   "id": "c510ab5e",
   "metadata": {},
   "outputs": [],
   "source": [
    "ones=np.array([1,1,1,1],ndmin=5)"
   ]
  },
  {
   "cell_type": "code",
   "execution_count": 82,
   "id": "63c68ec6",
   "metadata": {},
   "outputs": [
    {
     "name": "stdout",
     "output_type": "stream",
     "text": [
      "[[[[[1 1 1 1]]]]]\n"
     ]
    }
   ],
   "source": [
    "print(ones)"
   ]
  },
  {
   "cell_type": "markdown",
   "id": "feb50c85",
   "metadata": {},
   "source": [
    "# # Write a program to create an array of 10 zeros,10 ones, and 10 fives in row 1 2 and 3 which create a new array of shape (3,10)"
   ]
  },
  {
   "cell_type": "code",
   "execution_count": 96,
   "id": "463e4f71",
   "metadata": {},
   "outputs": [],
   "source": [
    "x=np.arange(1,31).reshape(3,10)"
   ]
  },
  {
   "cell_type": "code",
   "execution_count": 97,
   "id": "7209a803",
   "metadata": {},
   "outputs": [
    {
     "data": {
      "text/plain": [
       "array([[ 1,  2,  3,  4,  5,  6,  7,  8,  9, 10],\n",
       "       [11, 12, 13, 14, 15, 16, 17, 18, 19, 20],\n",
       "       [21, 22, 23, 24, 25, 26, 27, 28, 29, 30]])"
      ]
     },
     "execution_count": 97,
     "metadata": {},
     "output_type": "execute_result"
    }
   ],
   "source": [
    "x"
   ]
  },
  {
   "cell_type": "code",
   "execution_count": 92,
   "id": "b6dda842",
   "metadata": {},
   "outputs": [],
   "source": [
    "x[0,:]=0"
   ]
  },
  {
   "cell_type": "code",
   "execution_count": 93,
   "id": "5897f3b4",
   "metadata": {},
   "outputs": [],
   "source": [
    "x[1,:]=1"
   ]
  },
  {
   "cell_type": "code",
   "execution_count": 94,
   "id": "d164a837",
   "metadata": {},
   "outputs": [],
   "source": [
    "x[2,:]=5"
   ]
  },
  {
   "cell_type": "code",
   "execution_count": 98,
   "id": "71e3f38c",
   "metadata": {},
   "outputs": [
    {
     "data": {
      "text/plain": [
       "array([[ 1,  2,  3,  4,  5,  6,  7,  8,  9, 10],\n",
       "       [11, 12, 13, 14, 15, 16, 17, 18, 19, 20],\n",
       "       [21, 22, 23, 24, 25, 26, 27, 28, 29, 30]])"
      ]
     },
     "execution_count": 98,
     "metadata": {},
     "output_type": "execute_result"
    }
   ],
   "source": [
    "x"
   ]
  },
  {
   "cell_type": "markdown",
   "id": "bfc17a03",
   "metadata": {},
   "source": [
    "# Write a program to create a 3x4 matrix filled with values from 10 to 21.\n"
   ]
  },
  {
   "cell_type": "code",
   "execution_count": 100,
   "id": "75f08b2d",
   "metadata": {},
   "outputs": [
    {
     "data": {
      "text/plain": [
       "array([[10., 11., 12., 13.],\n",
       "       [14., 15., 16., 17.],\n",
       "       [18., 19., 20., 21.]])"
      ]
     },
     "execution_count": 100,
     "metadata": {},
     "output_type": "execute_result"
    }
   ],
   "source": [
    "np.linspace(10,21,12).reshape(3,4)"
   ]
  },
  {
   "cell_type": "markdown",
   "id": "bc0b6bac",
   "metadata": {},
   "source": [
    "# # Write a  program to create a 10x10 zero matrix with elements on the main diagonal equal to 0,1,2,3,4,5,6,7,8,9,\n"
   ]
  },
  {
   "cell_type": "code",
   "execution_count": 40,
   "id": "0d69abae",
   "metadata": {},
   "outputs": [
    {
     "data": {
      "text/plain": [
       "array([[0, 0, 0, 0, 0, 0, 0, 0, 0, 0],\n",
       "       [0, 1, 0, 0, 0, 0, 0, 0, 0, 0],\n",
       "       [0, 0, 2, 0, 0, 0, 0, 0, 0, 0],\n",
       "       [0, 0, 0, 3, 0, 0, 0, 0, 0, 0],\n",
       "       [0, 0, 0, 0, 4, 0, 0, 0, 0, 0],\n",
       "       [0, 0, 0, 0, 0, 5, 0, 0, 0, 0],\n",
       "       [0, 0, 0, 0, 0, 0, 6, 0, 0, 0],\n",
       "       [0, 0, 0, 0, 0, 0, 0, 7, 0, 0],\n",
       "       [0, 0, 0, 0, 0, 0, 0, 0, 8, 0],\n",
       "       [0, 0, 0, 0, 0, 0, 0, 0, 0, 9]])"
      ]
     },
     "execution_count": 40,
     "metadata": {},
     "output_type": "execute_result"
    }
   ],
   "source": [
    "np.diag([0,1,2,3,4,5,6,7,8,9])"
   ]
  },
  {
   "cell_type": "markdown",
   "id": "249d4abf",
   "metadata": {},
   "source": [
    "# Write a program to reverse an array (the first element becomes the last).\n",
    "#Given array:\n",
    "#[12 13 14 15 16 17 18 19 20 21 22 23 24 25 26 27 ]\n"
   ]
  },
  {
   "cell_type": "code",
   "execution_count": 44,
   "id": "fe8ba665",
   "metadata": {},
   "outputs": [],
   "source": [
    "x=np.arange(12,28)"
   ]
  },
  {
   "cell_type": "code",
   "execution_count": 46,
   "id": "170cd825",
   "metadata": {},
   "outputs": [
    {
     "data": {
      "text/plain": [
       "array([27, 26, 25, 24, 23, 22, 21, 20, 19, 18, 17, 16, 15, 14, 13, 12])"
      ]
     },
     "execution_count": 46,
     "metadata": {},
     "output_type": "execute_result"
    }
   ],
   "source": [
    "x[::-1]"
   ]
  },
  {
   "cell_type": "markdown",
   "id": "fade8d1e",
   "metadata": {},
   "source": [
    "# #Write a program to access all the elements greater than 30 and less than 80 and multiples of 5 from an array of shape 10,10 .Elements range from 1 to 100\n"
   ]
  },
  {
   "cell_type": "code",
   "execution_count": 103,
   "id": "34ccf60c",
   "metadata": {},
   "outputs": [],
   "source": [
    "x=np.arange(1,101).reshape(10,10)"
   ]
  },
  {
   "cell_type": "code",
   "execution_count": 104,
   "id": "0622aff8",
   "metadata": {},
   "outputs": [
    {
     "data": {
      "text/plain": [
       "array([[  1,   2,   3,   4,   5,   6,   7,   8,   9,  10],\n",
       "       [ 11,  12,  13,  14,  15,  16,  17,  18,  19,  20],\n",
       "       [ 21,  22,  23,  24,  25,  26,  27,  28,  29,  30],\n",
       "       [ 31,  32,  33,  34,  35,  36,  37,  38,  39,  40],\n",
       "       [ 41,  42,  43,  44,  45,  46,  47,  48,  49,  50],\n",
       "       [ 51,  52,  53,  54,  55,  56,  57,  58,  59,  60],\n",
       "       [ 61,  62,  63,  64,  65,  66,  67,  68,  69,  70],\n",
       "       [ 71,  72,  73,  74,  75,  76,  77,  78,  79,  80],\n",
       "       [ 81,  82,  83,  84,  85,  86,  87,  88,  89,  90],\n",
       "       [ 91,  92,  93,  94,  95,  96,  97,  98,  99, 100]])"
      ]
     },
     "execution_count": 104,
     "metadata": {},
     "output_type": "execute_result"
    }
   ],
   "source": [
    "x"
   ]
  },
  {
   "cell_type": "code",
   "execution_count": 105,
   "id": "de18e323",
   "metadata": {},
   "outputs": [],
   "source": [
    "y=(x>30) &(x<80)&(x%5==0)"
   ]
  },
  {
   "cell_type": "code",
   "execution_count": 106,
   "id": "07b340da",
   "metadata": {},
   "outputs": [
    {
     "data": {
      "text/plain": [
       "array([35, 40, 45, 50, 55, 60, 65, 70, 75])"
      ]
     },
     "execution_count": 106,
     "metadata": {},
     "output_type": "execute_result"
    }
   ],
   "source": [
    "x[y]"
   ]
  },
  {
   "cell_type": "markdown",
   "id": "9eae31a1",
   "metadata": {},
   "source": [
    "# Write a program to create a 2D array with 1 on the border and 0 inside.\n"
   ]
  },
  {
   "cell_type": "code",
   "execution_count": 144,
   "id": "34e4c14b",
   "metadata": {},
   "outputs": [],
   "source": [
    "one=np.ones((4,3),dtype=int)"
   ]
  },
  {
   "cell_type": "code",
   "execution_count": 145,
   "id": "661d6413",
   "metadata": {},
   "outputs": [
    {
     "data": {
      "text/plain": [
       "array([[1, 1, 1],\n",
       "       [1, 1, 1],\n",
       "       [1, 1, 1],\n",
       "       [1, 1, 1]])"
      ]
     },
     "execution_count": 145,
     "metadata": {},
     "output_type": "execute_result"
    }
   ],
   "source": [
    "one"
   ]
  },
  {
   "cell_type": "code",
   "execution_count": 147,
   "id": "f61356cf",
   "metadata": {},
   "outputs": [],
   "source": [
    "one[1:3,1]=0"
   ]
  },
  {
   "cell_type": "code",
   "execution_count": 148,
   "id": "c1366c43",
   "metadata": {},
   "outputs": [
    {
     "data": {
      "text/plain": [
       "array([[1, 1, 1],\n",
       "       [1, 0, 1],\n",
       "       [1, 0, 1],\n",
       "       [1, 1, 1]])"
      ]
     },
     "execution_count": 148,
     "metadata": {},
     "output_type": "execute_result"
    }
   ],
   "source": [
    "one"
   ]
  },
  {
   "cell_type": "markdown",
   "id": "5e66d2eb",
   "metadata": {},
   "source": [
    "# Write a program to create a checkerboard pattern .Don't use default array function\n",
    "#Checkerboard pattern:                                                   \n",
    "[[0 1 0 1 0 1 0 1]                                                      \n",
    " [1 0 1 0 1 0 1 0]                                                      \n",
    " [0 1 0 1 0 1 0 1]                                                      \n",
    " [1 0 1 0 1 0 1 0]                                                      \n",
    " [0 1 0 1 0 1 0 1]                                                      \n",
    " [1 0 1 0 1 0 1 0] \n"
   ]
  },
  {
   "cell_type": "code",
   "execution_count": 10,
   "id": "5034529c",
   "metadata": {},
   "outputs": [],
   "source": [
    "x=np.zeros((8,8),dtype=int)"
   ]
  },
  {
   "cell_type": "code",
   "execution_count": 11,
   "id": "cb05eea7",
   "metadata": {},
   "outputs": [
    {
     "data": {
      "text/plain": [
       "array([[0, 0, 0, 0, 0, 0, 0, 0],\n",
       "       [0, 0, 0, 0, 0, 0, 0, 0],\n",
       "       [0, 0, 0, 0, 0, 0, 0, 0],\n",
       "       [0, 0, 0, 0, 0, 0, 0, 0],\n",
       "       [0, 0, 0, 0, 0, 0, 0, 0],\n",
       "       [0, 0, 0, 0, 0, 0, 0, 0],\n",
       "       [0, 0, 0, 0, 0, 0, 0, 0],\n",
       "       [0, 0, 0, 0, 0, 0, 0, 0]])"
      ]
     },
     "execution_count": 11,
     "metadata": {},
     "output_type": "execute_result"
    }
   ],
   "source": [
    "x"
   ]
  },
  {
   "cell_type": "code",
   "execution_count": 12,
   "id": "ebc08b93",
   "metadata": {},
   "outputs": [],
   "source": [
    "x[1::2,::2]=1"
   ]
  },
  {
   "cell_type": "code",
   "execution_count": 13,
   "id": "a0e50715",
   "metadata": {},
   "outputs": [
    {
     "data": {
      "text/plain": [
       "array([[0, 0, 0, 0, 0, 0, 0, 0],\n",
       "       [1, 0, 1, 0, 1, 0, 1, 0],\n",
       "       [0, 0, 0, 0, 0, 0, 0, 0],\n",
       "       [1, 0, 1, 0, 1, 0, 1, 0],\n",
       "       [0, 0, 0, 0, 0, 0, 0, 0],\n",
       "       [1, 0, 1, 0, 1, 0, 1, 0],\n",
       "       [0, 0, 0, 0, 0, 0, 0, 0],\n",
       "       [1, 0, 1, 0, 1, 0, 1, 0]])"
      ]
     },
     "execution_count": 13,
     "metadata": {},
     "output_type": "execute_result"
    }
   ],
   "source": [
    "x"
   ]
  },
  {
   "cell_type": "code",
   "execution_count": 14,
   "id": "7d7d1034",
   "metadata": {},
   "outputs": [],
   "source": [
    "x[::2,1::2]=1"
   ]
  },
  {
   "cell_type": "code",
   "execution_count": 15,
   "id": "ed94adab",
   "metadata": {},
   "outputs": [
    {
     "data": {
      "text/plain": [
       "array([[0, 1, 0, 1, 0, 1, 0, 1],\n",
       "       [1, 0, 1, 0, 1, 0, 1, 0],\n",
       "       [0, 1, 0, 1, 0, 1, 0, 1],\n",
       "       [1, 0, 1, 0, 1, 0, 1, 0],\n",
       "       [0, 1, 0, 1, 0, 1, 0, 1],\n",
       "       [1, 0, 1, 0, 1, 0, 1, 0],\n",
       "       [0, 1, 0, 1, 0, 1, 0, 1],\n",
       "       [1, 0, 1, 0, 1, 0, 1, 0]])"
      ]
     },
     "execution_count": 15,
     "metadata": {},
     "output_type": "execute_result"
    }
   ],
   "source": [
    "x"
   ]
  },
  {
   "cell_type": "markdown",
   "id": "0dbaa2e8",
   "metadata": {},
   "source": [
    "# Write a program to find common values between two arrays.\n",
    "#Expected Output:\n",
    "#array1: [10 20 40 60]\n",
    "#array2: [10, 30, 40,50]\n"
   ]
  },
  {
   "cell_type": "code",
   "execution_count": 156,
   "id": "f3101b29",
   "metadata": {},
   "outputs": [],
   "source": [
    "a1=np.array([10,220,40,60])\n",
    "a2=np.array([10,30,40,50])"
   ]
  },
  {
   "cell_type": "code",
   "execution_count": 157,
   "id": "aee56075",
   "metadata": {},
   "outputs": [
    {
     "data": {
      "text/plain": [
       "array([10, 40])"
      ]
     },
     "execution_count": 157,
     "metadata": {},
     "output_type": "execute_result"
    }
   ],
   "source": [
    "np.intersect1d(a1,a2)"
   ]
  },
  {
   "cell_type": "markdown",
   "id": "8541fc0d",
   "metadata": {},
   "source": [
    "# #Write a program to create an array 2d array and then reshape into 1d array\n"
   ]
  },
  {
   "cell_type": "code",
   "execution_count": 158,
   "id": "dd3765c2",
   "metadata": {},
   "outputs": [],
   "source": [
    "arraay=np.array([[1,2,3],[4,5,6],[7,8,9]])"
   ]
  },
  {
   "cell_type": "code",
   "execution_count": 160,
   "id": "dac367d5",
   "metadata": {},
   "outputs": [
    {
     "data": {
      "text/plain": [
       "array([[1, 2, 3],\n",
       "       [4, 5, 6],\n",
       "       [7, 8, 9]])"
      ]
     },
     "execution_count": 160,
     "metadata": {},
     "output_type": "execute_result"
    }
   ],
   "source": [
    "arraay"
   ]
  },
  {
   "cell_type": "code",
   "execution_count": 161,
   "id": "f1d5e7a9",
   "metadata": {},
   "outputs": [
    {
     "data": {
      "text/plain": [
       "2"
      ]
     },
     "execution_count": 161,
     "metadata": {},
     "output_type": "execute_result"
    }
   ],
   "source": [
    "arraay.ndim"
   ]
  },
  {
   "cell_type": "code",
   "execution_count": 164,
   "id": "649671a9",
   "metadata": {},
   "outputs": [],
   "source": [
    "oned=arraay.reshape(9,)"
   ]
  },
  {
   "cell_type": "code",
   "execution_count": 165,
   "id": "d14f7b6e",
   "metadata": {},
   "outputs": [
    {
     "data": {
      "text/plain": [
       "1"
      ]
     },
     "execution_count": 165,
     "metadata": {},
     "output_type": "execute_result"
    }
   ],
   "source": [
    "oned.ndim"
   ]
  },
  {
   "cell_type": "markdown",
   "id": "eb416cbd",
   "metadata": {},
   "source": [
    "# Write a program to create a 4x4 array. Create an array from below array by swapping first and last, second and third columns.\n"
   ]
  },
  {
   "cell_type": "code",
   "execution_count": 166,
   "id": "3762b0cb",
   "metadata": {},
   "outputs": [],
   "source": [
    "arr=np.arange(1,17).reshape(4,4)"
   ]
  },
  {
   "cell_type": "code",
   "execution_count": 167,
   "id": "6588686f",
   "metadata": {},
   "outputs": [
    {
     "data": {
      "text/plain": [
       "array([[ 1,  2,  3,  4],\n",
       "       [ 5,  6,  7,  8],\n",
       "       [ 9, 10, 11, 12],\n",
       "       [13, 14, 15, 16]])"
      ]
     },
     "execution_count": 167,
     "metadata": {},
     "output_type": "execute_result"
    }
   ],
   "source": [
    "arr"
   ]
  },
  {
   "cell_type": "markdown",
   "id": "16ba4c50",
   "metadata": {},
   "source": [
    "# Solve the below problem by using only numpy functions on the  below given data set\n"
   ]
  },
  {
   "cell_type": "code",
   "execution_count": 72,
   "id": "72d06f63",
   "metadata": {},
   "outputs": [],
   "source": [
    "x=np.genfromtxt(r\"C:\\Users\\Dell\\Downloads\\train_extended.csv\",delimiter=',',skip_header=1)"
   ]
  },
  {
   "cell_type": "code",
   "execution_count": 73,
   "id": "cb2d3752",
   "metadata": {},
   "outputs": [
    {
     "data": {
      "text/plain": [
       "array([[ 1.575     ,  1.225     ,  0.375     , ...,  6.3219385 ,\n",
       "         9.63883   , 10.        ],\n",
       "       [ 1.2375    ,  1.        ,  0.375     , ...,  3.798833  ,\n",
       "         7.654365  , 19.        ],\n",
       "       [ 1.45      ,  1.1625    ,  0.4125    , ...,  7.01650125,\n",
       "         7.257472  , 11.        ],\n",
       "       ...,\n",
       "       [ 1.125     ,  0.9125    ,  0.2875    , ...,  1.984465  ,\n",
       "         3.118445  ,  7.        ],\n",
       "       [ 1.625     ,  1.275     ,  0.4125    , ...,  7.86698625,\n",
       "        10.489315  , 11.        ],\n",
       "       [ 1.5875    ,  1.25      ,  0.3875    , ...,  7.38504475,\n",
       "         8.788345  , 11.        ]])"
      ]
     },
     "execution_count": 73,
     "metadata": {},
     "output_type": "execute_result"
    }
   ],
   "source": [
    "x"
   ]
  },
  {
   "cell_type": "markdown",
   "id": "d7643425",
   "metadata": {},
   "source": [
    "# what is the max &min length"
   ]
  },
  {
   "cell_type": "code",
   "execution_count": 202,
   "id": "56cf609e",
   "metadata": {},
   "outputs": [],
   "source": [
    "max=np.max(x,axis=0)"
   ]
  },
  {
   "cell_type": "code",
   "execution_count": 203,
   "id": "c8249124",
   "metadata": {},
   "outputs": [],
   "source": [
    "max_length=max[0]"
   ]
  },
  {
   "cell_type": "code",
   "execution_count": 204,
   "id": "089eb0e0",
   "metadata": {},
   "outputs": [
    {
     "data": {
      "text/plain": [
       "7.58349125"
      ]
     },
     "execution_count": 204,
     "metadata": {},
     "output_type": "execute_result"
    }
   ],
   "source": [
    "max_length"
   ]
  },
  {
   "cell_type": "code",
   "execution_count": 215,
   "id": "26534736",
   "metadata": {},
   "outputs": [],
   "source": [
    "min=np.min(x,axis=0)"
   ]
  },
  {
   "cell_type": "code",
   "execution_count": 216,
   "id": "fe8ce068",
   "metadata": {},
   "outputs": [
    {
     "data": {
      "text/plain": [
       "array([0.        , 0.        , 0.        , 0.0283495 , 0.01417475,\n",
       "       0.01417475, 0.04252425, 1.        ])"
      ]
     },
     "execution_count": 216,
     "metadata": {},
     "output_type": "execute_result"
    }
   ],
   "source": [
    "min"
   ]
  },
  {
   "cell_type": "code",
   "execution_count": 211,
   "id": "6351bac2",
   "metadata": {},
   "outputs": [],
   "source": [
    "min_length=min[0]"
   ]
  },
  {
   "cell_type": "code",
   "execution_count": 212,
   "id": "274e05af",
   "metadata": {},
   "outputs": [
    {
     "data": {
      "text/plain": [
       "0.0"
      ]
     },
     "execution_count": 212,
     "metadata": {},
     "output_type": "execute_result"
    }
   ],
   "source": [
    "min_length"
   ]
  },
  {
   "cell_type": "markdown",
   "id": "ff3034d2",
   "metadata": {},
   "source": [
    "# differences between max &min length"
   ]
  },
  {
   "cell_type": "code",
   "execution_count": 213,
   "id": "a813caef",
   "metadata": {},
   "outputs": [],
   "source": [
    "difference=max_length-min_length"
   ]
  },
  {
   "cell_type": "code",
   "execution_count": 214,
   "id": "3388d44b",
   "metadata": {},
   "outputs": [
    {
     "data": {
      "text/plain": [
       "7.58349125"
      ]
     },
     "execution_count": 214,
     "metadata": {},
     "output_type": "execute_result"
    }
   ],
   "source": [
    "difference"
   ]
  },
  {
   "cell_type": "code",
   "execution_count": null,
   "id": "5c12b2b6",
   "metadata": {},
   "outputs": [],
   "source": []
  },
  {
   "cell_type": "markdown",
   "id": "3c3509b5",
   "metadata": {},
   "source": [
    "# differences between max &min length"
   ]
  },
  {
   "cell_type": "code",
   "execution_count": 24,
   "id": "729b5836",
   "metadata": {},
   "outputs": [],
   "source": [
    "def f(x):\n",
    "    return np.max(x)-np.min(x)"
   ]
  },
  {
   "cell_type": "code",
   "execution_count": 25,
   "id": "46c1e3f8",
   "metadata": {},
   "outputs": [],
   "source": [
    "diff=np.apply_along_axis(f,0,x)"
   ]
  },
  {
   "cell_type": "code",
   "execution_count": 26,
   "id": "b5321ba4",
   "metadata": {},
   "outputs": [
    {
     "data": {
      "text/plain": [
       "array([ 7.58349125,  2.25      ,  2.825     , 80.07316275, 45.25997675,\n",
       "       26.1098895 , 36.9960975 , 28.        ])"
      ]
     },
     "execution_count": 26,
     "metadata": {},
     "output_type": "execute_result"
    }
   ],
   "source": [
    "diff"
   ]
  },
  {
   "cell_type": "code",
   "execution_count": 221,
   "id": "a49cd2aa",
   "metadata": {},
   "outputs": [],
   "source": [
    "difference_lenth=diff[0]"
   ]
  },
  {
   "cell_type": "code",
   "execution_count": 223,
   "id": "ff1125e6",
   "metadata": {},
   "outputs": [
    {
     "data": {
      "text/plain": [
       "7.58349125"
      ]
     },
     "execution_count": 223,
     "metadata": {},
     "output_type": "execute_result"
    }
   ],
   "source": [
    "difference_lenth"
   ]
  },
  {
   "cell_type": "markdown",
   "id": "d69c81d1",
   "metadata": {},
   "source": [
    "# what is the column-wise average ?"
   ]
  },
  {
   "cell_type": "code",
   "execution_count": 43,
   "id": "26c86a03",
   "metadata": {},
   "outputs": [],
   "source": [
    "def average(x):\n",
    "    return sum(x)/len(x)\n"
   ]
  },
  {
   "cell_type": "code",
   "execution_count": 45,
   "id": "513c4689",
   "metadata": {},
   "outputs": [
    {
     "data": {
      "text/plain": [
       "array([ 1.31244808,  1.02032036,  0.34602787, 23.12343631,  9.98937025,\n",
       "        4.99318096,  6.63422915,  9.950615  ])"
      ]
     },
     "execution_count": 45,
     "metadata": {},
     "output_type": "execute_result"
    }
   ],
   "source": [
    "np.apply_along_axis(average,0,x)"
   ]
  },
  {
   "cell_type": "markdown",
   "id": "ed4dd260",
   "metadata": {},
   "source": [
    "# what is the avg height and weight of the person whose age is 10 "
   ]
  },
  {
   "cell_type": "code",
   "execution_count": 83,
   "id": "5ddff1e4",
   "metadata": {},
   "outputs": [],
   "source": [
    "height=x[:,2]"
   ]
  },
  {
   "cell_type": "code",
   "execution_count": 84,
   "id": "55dc8138",
   "metadata": {},
   "outputs": [],
   "source": [
    "weight=x[:,3]"
   ]
  },
  {
   "cell_type": "code",
   "execution_count": 85,
   "id": "136df953",
   "metadata": {},
   "outputs": [],
   "source": [
    "age=x[:,7]"
   ]
  },
  {
   "cell_type": "code",
   "execution_count": 57,
   "id": "2cdf383b",
   "metadata": {},
   "outputs": [],
   "source": [
    "avg_height=np.median(height[age==10])"
   ]
  },
  {
   "cell_type": "code",
   "execution_count": 61,
   "id": "2b907741",
   "metadata": {},
   "outputs": [
    {
     "name": "stdout",
     "output_type": "stream",
     "text": [
      "average height whose age is 10 is 0.3875\n"
     ]
    }
   ],
   "source": [
    "print('average height whose age is 10 is',avg_height)"
   ]
  },
  {
   "cell_type": "code",
   "execution_count": 60,
   "id": "6c8c15e4",
   "metadata": {},
   "outputs": [],
   "source": [
    "avg_weight=np.median(weight[age==10])"
   ]
  },
  {
   "cell_type": "code",
   "execution_count": 63,
   "id": "5db6f1cb",
   "metadata": {},
   "outputs": [
    {
     "name": "stdout",
     "output_type": "stream",
     "text": [
      "average weight whose age is 10 is  28.2077525\n"
     ]
    }
   ],
   "source": [
    "print('average weight whose age is 10 is ',avg_weight)"
   ]
  },
  {
   "cell_type": "markdown",
   "id": "ebda70b0",
   "metadata": {},
   "source": [
    "# what is the avg height of persons whose age in between 14&19 "
   ]
  },
  {
   "cell_type": "code",
   "execution_count": 97,
   "id": "369642af",
   "metadata": {},
   "outputs": [
    {
     "data": {
      "text/plain": [
       "array([10., 19., 11., ...,  7., 11., 11.])"
      ]
     },
     "execution_count": 97,
     "metadata": {},
     "output_type": "execute_result"
    }
   ],
   "source": [
    "age"
   ]
  },
  {
   "cell_type": "code",
   "execution_count": 91,
   "id": "8e891ce0",
   "metadata": {},
   "outputs": [],
   "source": [
    "mask=(age>=14)&(age<=18)"
   ]
  },
  {
   "cell_type": "code",
   "execution_count": 94,
   "id": "4b7ad3a9",
   "metadata": {},
   "outputs": [],
   "source": [
    "ages=age[mask]"
   ]
  },
  {
   "cell_type": "code",
   "execution_count": 99,
   "id": "80bcc78a",
   "metadata": {},
   "outputs": [],
   "source": [
    "avg_height=np.median(height[(age>=14)&(age<=18)])"
   ]
  },
  {
   "cell_type": "code",
   "execution_count": 100,
   "id": "11f4e2d3",
   "metadata": {},
   "outputs": [
    {
     "name": "stdout",
     "output_type": "stream",
     "text": [
      "average height of persons whose age in between 14&19 is 0.4125\n"
     ]
    }
   ],
   "source": [
    "print('average height of persons whose age in between 14&19 is',avg_height )"
   ]
  },
  {
   "cell_type": "markdown",
   "id": "2c2e654d",
   "metadata": {},
   "source": [
    "# total shell weight"
   ]
  },
  {
   "cell_type": "code",
   "execution_count": 156,
   "id": "f80b11ff",
   "metadata": {},
   "outputs": [],
   "source": [
    "total_shellwt=np.sum(x,axis=0)"
   ]
  },
  {
   "cell_type": "code",
   "execution_count": 157,
   "id": "02959e3a",
   "metadata": {},
   "outputs": [
    {
     "data": {
      "text/plain": [
       "array([ 262489.61599123,  204064.07143302,   69205.57420999,\n",
       "       4624687.26259666, 1997874.0496096 ,  998636.19134984,\n",
       "       1326845.82952127, 1990123.        ])"
      ]
     },
     "execution_count": 157,
     "metadata": {},
     "output_type": "execute_result"
    }
   ],
   "source": [
    "total_shellwt"
   ]
  },
  {
   "cell_type": "code",
   "execution_count": 158,
   "id": "666c375b",
   "metadata": {},
   "outputs": [
    {
     "data": {
      "text/plain": [
       "1326845.8295212665"
      ]
     },
     "execution_count": 158,
     "metadata": {},
     "output_type": "execute_result"
    }
   ],
   "source": [
    "total_shellwt[6]"
   ]
  },
  {
   "cell_type": "markdown",
   "id": "76c57ae9",
   "metadata": {},
   "source": [
    "# differences between shucked weight and viscera weight"
   ]
  },
  {
   "cell_type": "code",
   "execution_count": 165,
   "id": "d377090e",
   "metadata": {},
   "outputs": [],
   "source": [
    "diff_wt1=total_shellwt[4]"
   ]
  },
  {
   "cell_type": "code",
   "execution_count": 166,
   "id": "19a7b345",
   "metadata": {},
   "outputs": [],
   "source": [
    "diff_wt2=total_shellwt[5]"
   ]
  },
  {
   "cell_type": "code",
   "execution_count": 167,
   "id": "883942dc",
   "metadata": {},
   "outputs": [],
   "source": [
    "diff_wt=total_shellwt[4]-total_shellwt[5]"
   ]
  },
  {
   "cell_type": "code",
   "execution_count": 168,
   "id": "8f620fa3",
   "metadata": {},
   "outputs": [
    {
     "data": {
      "text/plain": [
       "999237.8582597616"
      ]
     },
     "execution_count": 168,
     "metadata": {},
     "output_type": "execute_result"
    }
   ],
   "source": [
    "diff_wt"
   ]
  },
  {
   "cell_type": "markdown",
   "id": "f47e80ed",
   "metadata": {},
   "source": [
    "# find oout the age whose height is >0.4"
   ]
  },
  {
   "cell_type": "code",
   "execution_count": 33,
   "id": "5a8603e6",
   "metadata": {},
   "outputs": [],
   "source": [
    "filter_age=x[:,7][x[:,2]>0.4]"
   ]
  },
  {
   "cell_type": "code",
   "execution_count": 37,
   "id": "ac6e5bf1",
   "metadata": {},
   "outputs": [
    {
     "name": "stdout",
     "output_type": "stream",
     "text": [
      "the ages whose height >0.4 is  [11. 14. 13. ... 11. 11. 11.]\n"
     ]
    }
   ],
   "source": [
    "print('the ages whose height >0.4 is ',filter_age)"
   ]
  },
  {
   "cell_type": "markdown",
   "id": "a11b7727",
   "metadata": {},
   "source": [
    "# #avg weight of shucked weight,viscera-weight,shell weight\n"
   ]
  },
  {
   "cell_type": "code",
   "execution_count": 38,
   "id": "529c6cea",
   "metadata": {},
   "outputs": [],
   "source": [
    "wt=x[:,4:7]"
   ]
  },
  {
   "cell_type": "code",
   "execution_count": 39,
   "id": "1263beb2",
   "metadata": {},
   "outputs": [],
   "source": [
    "total_weight=np.sum(wt,axis=0)"
   ]
  },
  {
   "cell_type": "code",
   "execution_count": 40,
   "id": "8f51c905",
   "metadata": {},
   "outputs": [],
   "source": [
    "def avg_wt(x):\n",
    "    return sum(x)/len(x)"
   ]
  },
  {
   "cell_type": "code",
   "execution_count": 41,
   "id": "f2b72444",
   "metadata": {},
   "outputs": [
    {
     "data": {
      "text/plain": [
       "array(1441118.69016023)"
      ]
     },
     "execution_count": 41,
     "metadata": {},
     "output_type": "execute_result"
    }
   ],
   "source": [
    "np.apply_along_axis(avg_wt,0,total_weight)"
   ]
  },
  {
   "cell_type": "markdown",
   "id": "4131e1e4",
   "metadata": {},
   "source": [
    "# how many persons belongs each and every unique age"
   ]
  },
  {
   "cell_type": "code",
   "execution_count": 53,
   "id": "ecf3e6bd",
   "metadata": {},
   "outputs": [],
   "source": [
    "age1=x[:,7:]"
   ]
  },
  {
   "cell_type": "code",
   "execution_count": 54,
   "id": "9a3e08c5",
   "metadata": {},
   "outputs": [],
   "source": [
    "age=np.ravel(age1)"
   ]
  },
  {
   "cell_type": "code",
   "execution_count": 55,
   "id": "52bb1288",
   "metadata": {},
   "outputs": [],
   "source": [
    "age,repeat=np.unique(age,return_counts=True)"
   ]
  },
  {
   "cell_type": "code",
   "execution_count": 56,
   "id": "52bf0eb0",
   "metadata": {},
   "outputs": [
    {
     "data": {
      "text/plain": [
       "array([ 1.,  2.,  3.,  4.,  5.,  6.,  7.,  8.,  9., 10., 11., 12., 13.,\n",
       "       14., 15., 16., 17., 18., 19., 20., 21., 22., 23., 24., 25., 26.,\n",
       "       27., 29.])"
      ]
     },
     "execution_count": 56,
     "metadata": {},
     "output_type": "execute_result"
    }
   ],
   "source": [
    "age"
   ]
  },
  {
   "cell_type": "code",
   "execution_count": 57,
   "id": "a3ef8e1f",
   "metadata": {},
   "outputs": [
    {
     "data": {
      "text/plain": [
       "array([   46,    42,   625,  2787,  5475, 12450, 18276, 26818, 32906,\n",
       "       30803, 23457, 12717, 10037,  6352,  4831,  3191,  2705,  1953,\n",
       "        1591,  1206,   721,   296,   352,   110,    51,    46,    99,\n",
       "          57], dtype=int64)"
      ]
     },
     "execution_count": 57,
     "metadata": {},
     "output_type": "execute_result"
    }
   ],
   "source": [
    "repeat"
   ]
  },
  {
   "cell_type": "markdown",
   "id": "67bd0b8e",
   "metadata": {},
   "source": [
    "# #Solve the below problem by using only numpy on tip data set\n"
   ]
  },
  {
   "cell_type": "code",
   "execution_count": 48,
   "id": "6deb1e12",
   "metadata": {},
   "outputs": [],
   "source": [
    "ass1=np.genfromtxt(r\"C:\\Users\\Dell\\Downloads\\tipsf.csv\",delimiter=',',skip_header=1)"
   ]
  },
  {
   "cell_type": "code",
   "execution_count": 49,
   "id": "796c81c6",
   "metadata": {},
   "outputs": [
    {
     "data": {
      "text/plain": [
       "array([[  0.  ,  16.99,   1.01, ...,   1.  ,   0.  ,   2.  ],\n",
       "       [  1.  ,  10.34,   1.66, ...,   1.  ,   0.  ,   3.  ],\n",
       "       [  2.  ,  21.01,   3.5 , ...,   1.  ,   0.  ,   3.  ],\n",
       "       ...,\n",
       "       [241.  ,  22.67,   2.  , ...,   0.  ,   0.  ,   2.  ],\n",
       "       [242.  ,  17.82,   1.75, ...,   0.  ,   0.  ,   2.  ],\n",
       "       [243.  ,  18.78,   3.  , ...,   2.  ,   0.  ,   2.  ]])"
      ]
     },
     "execution_count": 49,
     "metadata": {},
     "output_type": "execute_result"
    }
   ],
   "source": [
    "ass1"
   ]
  },
  {
   "cell_type": "markdown",
   "id": "098ef57c",
   "metadata": {},
   "source": [
    "# total bill_value"
   ]
  },
  {
   "cell_type": "code",
   "execution_count": 76,
   "id": "463c9e83",
   "metadata": {},
   "outputs": [],
   "source": [
    "bill=np.sum(ass1,axis=0)"
   ]
  },
  {
   "cell_type": "code",
   "execution_count": 77,
   "id": "ac9e5815",
   "metadata": {},
   "outputs": [],
   "source": [
    "total_billvalue=bill[1]"
   ]
  },
  {
   "cell_type": "code",
   "execution_count": 79,
   "id": "b6fb802c",
   "metadata": {},
   "outputs": [
    {
     "name": "stdout",
     "output_type": "stream",
     "text": [
      "total bill value is  4827.770000000001\n"
     ]
    }
   ],
   "source": [
    "print('total bill value is ',total_billvalue)"
   ]
  },
  {
   "cell_type": "markdown",
   "id": "0ef30d8d",
   "metadata": {},
   "source": [
    "# total tip value"
   ]
  },
  {
   "cell_type": "code",
   "execution_count": 66,
   "id": "b3cb1a98",
   "metadata": {},
   "outputs": [
    {
     "data": {
      "text/plain": [
       "array([29646.  ,  4827.77,   731.58,   157.  ,    93.  ,   257.  ,\n",
       "          68.  ,   627.  ])"
      ]
     },
     "execution_count": 66,
     "metadata": {},
     "output_type": "execute_result"
    }
   ],
   "source": [
    "bill"
   ]
  },
  {
   "cell_type": "code",
   "execution_count": 67,
   "id": "964139fb",
   "metadata": {},
   "outputs": [],
   "source": [
    "total_tip=bill[2]"
   ]
  },
  {
   "cell_type": "code",
   "execution_count": 72,
   "id": "07069608",
   "metadata": {},
   "outputs": [
    {
     "name": "stdout",
     "output_type": "stream",
     "text": [
      "total tip is  731.58\n"
     ]
    }
   ],
   "source": [
    "print('total tip is ',total_tip)"
   ]
  },
  {
   "cell_type": "markdown",
   "id": "d91a3e20",
   "metadata": {},
   "source": [
    "# no.of thursdays,fridays,saturdays,sundays present"
   ]
  },
  {
   "cell_type": "code",
   "execution_count": 6,
   "id": "41a23bb2",
   "metadata": {},
   "outputs": [],
   "source": [
    "days=ass1[:,5:6]"
   ]
  },
  {
   "cell_type": "code",
   "execution_count": 7,
   "id": "a6ac5809",
   "metadata": {},
   "outputs": [],
   "source": [
    "def f(x):\n",
    "    if x==0:\n",
    "        return 'thursday'\n",
    "    elif x==1:\n",
    "        return 'friday'\n",
    "    elif x==2:\n",
    "        return 'saturday'\n",
    "    else:\n",
    "        return 'sunday'"
   ]
  },
  {
   "cell_type": "code",
   "execution_count": 8,
   "id": "b3e1c66a",
   "metadata": {},
   "outputs": [],
   "source": [
    "day=np.vectorize(f,otypes=[str])"
   ]
  },
  {
   "cell_type": "code",
   "execution_count": 9,
   "id": "47ad5e5d",
   "metadata": {},
   "outputs": [],
   "source": [
    "total=day(days).ravel()"
   ]
  },
  {
   "cell_type": "code",
   "execution_count": 10,
   "id": "6531722e",
   "metadata": {},
   "outputs": [],
   "source": [
    "total_days,repeated=np.unique(total,return_counts=True)"
   ]
  },
  {
   "cell_type": "code",
   "execution_count": 13,
   "id": "42e26fdf",
   "metadata": {},
   "outputs": [
    {
     "name": "stdout",
     "output_type": "stream",
     "text": [
      "no.of fridays are  76 no.of saturdays are  62 no.of sundays are  19 no.of thursdays are  87\n"
     ]
    }
   ],
   "source": [
    "print( 'no.of fridays are ',repeated[0],'no.of saturdays are ',repeated[1],'no.of sundays are ',repeated[2],'no.of thursdays are ',repeated[3])"
   ]
  },
  {
   "cell_type": "markdown",
   "id": "c12b00f0",
   "metadata": {},
   "source": [
    "# number of smokers are present"
   ]
  },
  {
   "cell_type": "code",
   "execution_count": 15,
   "id": "94a2050f",
   "metadata": {},
   "outputs": [],
   "source": [
    "smoke=ass1[:,4:5]"
   ]
  },
  {
   "cell_type": "code",
   "execution_count": 16,
   "id": "b0e48535",
   "metadata": {},
   "outputs": [],
   "source": [
    "x=np.where((smoke==1),'smoker','non-smoker').ravel()"
   ]
  },
  {
   "cell_type": "code",
   "execution_count": 17,
   "id": "9ebea248",
   "metadata": {},
   "outputs": [],
   "source": [
    "smoker_nonsmoker,values=np.unique(x,return_counts=True)"
   ]
  },
  {
   "cell_type": "code",
   "execution_count": 18,
   "id": "7a69fc57",
   "metadata": {},
   "outputs": [
    {
     "data": {
      "text/plain": [
       "array(['non-smoker', 'smoker'], dtype='<U10')"
      ]
     },
     "execution_count": 18,
     "metadata": {},
     "output_type": "execute_result"
    }
   ],
   "source": [
    "smoker_nonsmoker"
   ]
  },
  {
   "cell_type": "code",
   "execution_count": 19,
   "id": "a2b9bd0b",
   "metadata": {},
   "outputs": [
    {
     "name": "stdout",
     "output_type": "stream",
     "text": [
      "no.of smokers are  93\n"
     ]
    }
   ],
   "source": [
    "print('no.of smokers are ',values[1])"
   ]
  },
  {
   "cell_type": "markdown",
   "id": "857a8c33",
   "metadata": {},
   "source": [
    "# total max tip and min tip"
   ]
  },
  {
   "cell_type": "code",
   "execution_count": 21,
   "id": "a2713dea",
   "metadata": {},
   "outputs": [],
   "source": [
    "max=np.max(ass1,axis=0)"
   ]
  },
  {
   "cell_type": "code",
   "execution_count": 22,
   "id": "02c563ba",
   "metadata": {},
   "outputs": [
    {
     "name": "stdout",
     "output_type": "stream",
     "text": [
      "max tip is 10.0\n"
     ]
    }
   ],
   "source": [
    "print('max tip is',max[2])"
   ]
  },
  {
   "cell_type": "code",
   "execution_count": 23,
   "id": "62610532",
   "metadata": {},
   "outputs": [],
   "source": [
    "min=np.min(ass1,axis=0)"
   ]
  },
  {
   "cell_type": "code",
   "execution_count": 24,
   "id": "2023d860",
   "metadata": {},
   "outputs": [
    {
     "name": "stdout",
     "output_type": "stream",
     "text": [
      "min tip is  1.0\n"
     ]
    }
   ],
   "source": [
    "print('min tip is ',min[2])"
   ]
  },
  {
   "cell_type": "code",
   "execution_count": 19,
   "id": "0ef370b0",
   "metadata": {},
   "outputs": [],
   "source": []
  },
  {
   "cell_type": "markdown",
   "id": "9f56e260",
   "metadata": {},
   "source": [
    "# Number male smokers and female smokers"
   ]
  },
  {
   "cell_type": "code",
   "execution_count": 10,
   "id": "04da695d",
   "metadata": {},
   "outputs": [],
   "source": [
    "smokers=ass1[:,4]"
   ]
  },
  {
   "cell_type": "code",
   "execution_count": 15,
   "id": "008314eb",
   "metadata": {},
   "outputs": [],
   "source": [
    "number=np.where((ass1[:,3]==1),'male','female')"
   ]
  },
  {
   "cell_type": "code",
   "execution_count": 16,
   "id": "7bd60a1b",
   "metadata": {},
   "outputs": [],
   "source": [
    "numbers=number[smokers==1]"
   ]
  },
  {
   "cell_type": "code",
   "execution_count": 18,
   "id": "53280d43",
   "metadata": {},
   "outputs": [],
   "source": [
    "male_smokers,female_smokers=np.unique(numbers,return_counts=True)"
   ]
  },
  {
   "cell_type": "code",
   "execution_count": 23,
   "id": "196118b2",
   "metadata": {},
   "outputs": [
    {
     "name": "stdout",
     "output_type": "stream",
     "text": [
      "number of male smokers are  60\n",
      "number of female smokers are  33\n"
     ]
    }
   ],
   "source": [
    "print('number of male smokers are ',female_smokers[1])\n",
    "print('number of female smokers are ',female_smokers[0])"
   ]
  },
  {
   "cell_type": "markdown",
   "id": "fff62af7",
   "metadata": {},
   "source": [
    "# find out the average size"
   ]
  },
  {
   "cell_type": "code",
   "execution_count": 27,
   "id": "1862e1ec",
   "metadata": {},
   "outputs": [],
   "source": [
    "avg_size=np.median(ass1[:,7])"
   ]
  },
  {
   "cell_type": "code",
   "execution_count": 28,
   "id": "32484339",
   "metadata": {},
   "outputs": [
    {
     "name": "stdout",
     "output_type": "stream",
     "text": [
      "the average size is  2.0\n"
     ]
    }
   ],
   "source": [
    "print('the average size is ',avg_size)"
   ]
  },
  {
   "cell_type": "markdown",
   "id": "0e6aeb1d",
   "metadata": {},
   "source": [
    "# what is the is the averge tip given by male and female"
   ]
  },
  {
   "cell_type": "code",
   "execution_count": 32,
   "id": "ce48db14",
   "metadata": {},
   "outputs": [],
   "source": [
    "tip=ass1[:,2]"
   ]
  },
  {
   "cell_type": "code",
   "execution_count": 35,
   "id": "6fd9689e",
   "metadata": {},
   "outputs": [],
   "source": [
    "avg_tip=np.median(tip[number=='male'])"
   ]
  },
  {
   "cell_type": "code",
   "execution_count": 36,
   "id": "429bc21c",
   "metadata": {},
   "outputs": [
    {
     "name": "stdout",
     "output_type": "stream",
     "text": [
      "average tip given by male is  3.0\n"
     ]
    }
   ],
   "source": [
    "print('average tip given by male is ',avg_tip)"
   ]
  },
  {
   "cell_type": "code",
   "execution_count": 38,
   "id": "08d179f7",
   "metadata": {},
   "outputs": [],
   "source": [
    "avg_tip=np.median(tip[number=='female'])"
   ]
  },
  {
   "cell_type": "code",
   "execution_count": 39,
   "id": "8107e5e3",
   "metadata": {},
   "outputs": [
    {
     "name": "stdout",
     "output_type": "stream",
     "text": [
      "average tip given by female is  2.75\n"
     ]
    }
   ],
   "source": [
    "print('average tip given by female is ',avg_tip)"
   ]
  },
  {
   "cell_type": "markdown",
   "id": "68f102d4",
   "metadata": {},
   "source": [
    "# how much amount spent by male and female"
   ]
  },
  {
   "cell_type": "code",
   "execution_count": 41,
   "id": "ea4fd6bf",
   "metadata": {},
   "outputs": [],
   "source": [
    "bill=ass1[:,1]"
   ]
  },
  {
   "cell_type": "code",
   "execution_count": 43,
   "id": "363728a5",
   "metadata": {},
   "outputs": [],
   "source": [
    "total_bill=np.sum(bill[number=='male'])"
   ]
  },
  {
   "cell_type": "code",
   "execution_count": 44,
   "id": "4c716703",
   "metadata": {},
   "outputs": [
    {
     "name": "stdout",
     "output_type": "stream",
     "text": [
      "total amount spent by males are  3256.8199999999997\n"
     ]
    }
   ],
   "source": [
    "print('total amount spent by males are ',total_bill)"
   ]
  },
  {
   "cell_type": "code",
   "execution_count": 45,
   "id": "616828f2",
   "metadata": {},
   "outputs": [],
   "source": [
    "total_bill=np.sum(bill[number=='female'])"
   ]
  },
  {
   "cell_type": "code",
   "execution_count": 46,
   "id": "cc337915",
   "metadata": {},
   "outputs": [
    {
     "name": "stdout",
     "output_type": "stream",
     "text": [
      "total amount spent by females are  1570.9499999999996\n"
     ]
    }
   ],
   "source": [
    "print('total amount spent by females are ',total_bill)"
   ]
  },
  {
   "cell_type": "markdown",
   "id": "a764b48c",
   "metadata": {},
   "source": [
    "# number of males and females present are present dinner and lunch"
   ]
  },
  {
   "cell_type": "code",
   "execution_count": 51,
   "id": "43220498",
   "metadata": {},
   "outputs": [],
   "source": [
    "food=np.where((ass1[:,6]==1),'dinner','lunch')"
   ]
  },
  {
   "cell_type": "code",
   "execution_count": 53,
   "id": "0dedf95d",
   "metadata": {},
   "outputs": [],
   "source": [
    "dinner,lunch=np.unique(number[food=='dinner'],return_counts=True)"
   ]
  },
  {
   "cell_type": "code",
   "execution_count": 58,
   "id": "1d806e89",
   "metadata": {},
   "outputs": [
    {
     "name": "stdout",
     "output_type": "stream",
     "text": [
      "there are 33 males are present for dinner\n"
     ]
    }
   ],
   "source": [
    "print('there are',lunch[1],'males are present for dinner')"
   ]
  },
  {
   "cell_type": "code",
   "execution_count": 59,
   "id": "442a90d2",
   "metadata": {},
   "outputs": [
    {
     "name": "stdout",
     "output_type": "stream",
     "text": [
      "there are 35 females are present for dinner\n"
     ]
    }
   ],
   "source": [
    "print('there are',lunch[0],'females are present for dinner')"
   ]
  },
  {
   "cell_type": "code",
   "execution_count": 64,
   "id": "d368eadd",
   "metadata": {},
   "outputs": [],
   "source": [
    "dinner1,lunch=np.unique(number[food=='lunch'],return_counts=True)"
   ]
  },
  {
   "cell_type": "code",
   "execution_count": 65,
   "id": "581fe90c",
   "metadata": {},
   "outputs": [
    {
     "name": "stdout",
     "output_type": "stream",
     "text": [
      "there are 124 males are present for lunch\n"
     ]
    }
   ],
   "source": [
    "print('there are',lunch[1],'males are present for lunch')"
   ]
  },
  {
   "cell_type": "code",
   "execution_count": 66,
   "id": "36cec80c",
   "metadata": {},
   "outputs": [
    {
     "name": "stdout",
     "output_type": "stream",
     "text": [
      "there are 52 females are present for lunch\n"
     ]
    }
   ],
   "source": [
    "print('there are',lunch[0],'females are present for lunch')"
   ]
  },
  {
   "cell_type": "code",
   "execution_count": null,
   "id": "4acdc621",
   "metadata": {},
   "outputs": [],
   "source": []
  },
  {
   "cell_type": "code",
   "execution_count": null,
   "id": "1c9afc01",
   "metadata": {},
   "outputs": [],
   "source": []
  }
 ],
 "metadata": {
  "kernelspec": {
   "display_name": "Python 3 (ipykernel)",
   "language": "python",
   "name": "python3"
  },
  "language_info": {
   "codemirror_mode": {
    "name": "ipython",
    "version": 3
   },
   "file_extension": ".py",
   "mimetype": "text/x-python",
   "name": "python",
   "nbconvert_exporter": "python",
   "pygments_lexer": "ipython3",
   "version": "3.11.3"
  }
 },
 "nbformat": 4,
 "nbformat_minor": 5
}
