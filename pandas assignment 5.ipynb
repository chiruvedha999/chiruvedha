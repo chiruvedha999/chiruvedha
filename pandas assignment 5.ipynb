{
 "cells": [
  {
   "cell_type": "code",
   "execution_count": 1,
   "id": "90cec80f",
   "metadata": {},
   "outputs": [],
   "source": [
    "import pandas as pd\n",
    "import numpy as np"
   ]
  },
  {
   "cell_type": "code",
   "execution_count": 2,
   "id": "de129ce4",
   "metadata": {},
   "outputs": [],
   "source": [
    "data=pd.read_csv(r\"C:\\Users\\Dell\\Downloads\\all_grains_data.csv\")"
   ]
  },
  {
   "cell_type": "code",
   "execution_count": 3,
   "id": "6197bf1d",
   "metadata": {},
   "outputs": [],
   "source": [
    "dt=data.copy()"
   ]
  },
  {
   "cell_type": "code",
   "execution_count": 4,
   "id": "5542e16e",
   "metadata": {},
   "outputs": [
    {
     "data": {
      "text/html": [
       "<div>\n",
       "<style scoped>\n",
       "    .dataframe tbody tr th:only-of-type {\n",
       "        vertical-align: middle;\n",
       "    }\n",
       "\n",
       "    .dataframe tbody tr th {\n",
       "        vertical-align: top;\n",
       "    }\n",
       "\n",
       "    .dataframe thead th {\n",
       "        text-align: right;\n",
       "    }\n",
       "</style>\n",
       "<table border=\"1\" class=\"dataframe\">\n",
       "  <thead>\n",
       "    <tr style=\"text-align: right;\">\n",
       "      <th></th>\n",
       "      <th>ticker</th>\n",
       "      <th>commodity</th>\n",
       "      <th>date</th>\n",
       "      <th>open</th>\n",
       "      <th>high</th>\n",
       "      <th>low</th>\n",
       "      <th>close</th>\n",
       "      <th>volume</th>\n",
       "    </tr>\n",
       "  </thead>\n",
       "  <tbody>\n",
       "    <tr>\n",
       "      <th>0</th>\n",
       "      <td>ZC=F</td>\n",
       "      <td>Corn</td>\n",
       "      <td>2000-07-17</td>\n",
       "      <td>182.25</td>\n",
       "      <td>182.25</td>\n",
       "      <td>178.25</td>\n",
       "      <td>179.25</td>\n",
       "      <td>19385</td>\n",
       "    </tr>\n",
       "    <tr>\n",
       "      <th>1</th>\n",
       "      <td>ZC=F</td>\n",
       "      <td>Corn</td>\n",
       "      <td>2000-07-18</td>\n",
       "      <td>179.00</td>\n",
       "      <td>183.25</td>\n",
       "      <td>179.00</td>\n",
       "      <td>180.75</td>\n",
       "      <td>25205</td>\n",
       "    </tr>\n",
       "    <tr>\n",
       "      <th>2</th>\n",
       "      <td>ZC=F</td>\n",
       "      <td>Corn</td>\n",
       "      <td>2000-07-19</td>\n",
       "      <td>180.00</td>\n",
       "      <td>182.75</td>\n",
       "      <td>178.75</td>\n",
       "      <td>182.00</td>\n",
       "      <td>17126</td>\n",
       "    </tr>\n",
       "    <tr>\n",
       "      <th>3</th>\n",
       "      <td>ZC=F</td>\n",
       "      <td>Corn</td>\n",
       "      <td>2000-07-20</td>\n",
       "      <td>181.50</td>\n",
       "      <td>187.00</td>\n",
       "      <td>181.00</td>\n",
       "      <td>186.00</td>\n",
       "      <td>18742</td>\n",
       "    </tr>\n",
       "    <tr>\n",
       "      <th>4</th>\n",
       "      <td>ZC=F</td>\n",
       "      <td>Corn</td>\n",
       "      <td>2000-07-21</td>\n",
       "      <td>185.50</td>\n",
       "      <td>188.00</td>\n",
       "      <td>185.00</td>\n",
       "      <td>187.75</td>\n",
       "      <td>16814</td>\n",
       "    </tr>\n",
       "    <tr>\n",
       "      <th>...</th>\n",
       "      <td>...</td>\n",
       "      <td>...</td>\n",
       "      <td>...</td>\n",
       "      <td>...</td>\n",
       "      <td>...</td>\n",
       "      <td>...</td>\n",
       "      <td>...</td>\n",
       "      <td>...</td>\n",
       "    </tr>\n",
       "    <tr>\n",
       "      <th>34878</th>\n",
       "      <td>ZS=F</td>\n",
       "      <td>Soybean</td>\n",
       "      <td>2023-09-11</td>\n",
       "      <td>1352.50</td>\n",
       "      <td>1352.50</td>\n",
       "      <td>1352.00</td>\n",
       "      <td>1352.50</td>\n",
       "      <td>36</td>\n",
       "    </tr>\n",
       "    <tr>\n",
       "      <th>34879</th>\n",
       "      <td>ZS=F</td>\n",
       "      <td>Soybean</td>\n",
       "      <td>2023-09-12</td>\n",
       "      <td>1348.75</td>\n",
       "      <td>1348.75</td>\n",
       "      <td>1331.75</td>\n",
       "      <td>1331.75</td>\n",
       "      <td>274</td>\n",
       "    </tr>\n",
       "    <tr>\n",
       "      <th>34880</th>\n",
       "      <td>ZS=F</td>\n",
       "      <td>Soybean</td>\n",
       "      <td>2023-09-13</td>\n",
       "      <td>1325.50</td>\n",
       "      <td>1336.00</td>\n",
       "      <td>1325.50</td>\n",
       "      <td>1336.00</td>\n",
       "      <td>201</td>\n",
       "    </tr>\n",
       "    <tr>\n",
       "      <th>34881</th>\n",
       "      <td>ZS=F</td>\n",
       "      <td>Soybean</td>\n",
       "      <td>2023-09-14</td>\n",
       "      <td>1343.75</td>\n",
       "      <td>1343.75</td>\n",
       "      <td>1343.75</td>\n",
       "      <td>1343.75</td>\n",
       "      <td>138778</td>\n",
       "    </tr>\n",
       "    <tr>\n",
       "      <th>34882</th>\n",
       "      <td>ZS=F</td>\n",
       "      <td>Soybean</td>\n",
       "      <td>2023-09-15</td>\n",
       "      <td>1360.50</td>\n",
       "      <td>1367.75</td>\n",
       "      <td>1338.25</td>\n",
       "      <td>1340.25</td>\n",
       "      <td>138778</td>\n",
       "    </tr>\n",
       "  </tbody>\n",
       "</table>\n",
       "<p>34883 rows × 8 columns</p>\n",
       "</div>"
      ],
      "text/plain": [
       "      ticker commodity        date     open     high      low    close  volume\n",
       "0       ZC=F      Corn  2000-07-17   182.25   182.25   178.25   179.25   19385\n",
       "1       ZC=F      Corn  2000-07-18   179.00   183.25   179.00   180.75   25205\n",
       "2       ZC=F      Corn  2000-07-19   180.00   182.75   178.75   182.00   17126\n",
       "3       ZC=F      Corn  2000-07-20   181.50   187.00   181.00   186.00   18742\n",
       "4       ZC=F      Corn  2000-07-21   185.50   188.00   185.00   187.75   16814\n",
       "...      ...       ...         ...      ...      ...      ...      ...     ...\n",
       "34878   ZS=F   Soybean  2023-09-11  1352.50  1352.50  1352.00  1352.50      36\n",
       "34879   ZS=F   Soybean  2023-09-12  1348.75  1348.75  1331.75  1331.75     274\n",
       "34880   ZS=F   Soybean  2023-09-13  1325.50  1336.00  1325.50  1336.00     201\n",
       "34881   ZS=F   Soybean  2023-09-14  1343.75  1343.75  1343.75  1343.75  138778\n",
       "34882   ZS=F   Soybean  2023-09-15  1360.50  1367.75  1338.25  1340.25  138778\n",
       "\n",
       "[34883 rows x 8 columns]"
      ]
     },
     "execution_count": 4,
     "metadata": {},
     "output_type": "execute_result"
    }
   ],
   "source": [
    "dt"
   ]
  },
  {
   "cell_type": "code",
   "execution_count": 5,
   "id": "4ac00c38",
   "metadata": {},
   "outputs": [],
   "source": [
    "#Which commodity was having the highest opening price for the day.\n",
    "#Which commodity price reached  maximum during the trading session.\n",
    "#What is the average Market's opening price for the Oat in 2010\n",
    "#What is the maximum and minimum Number of contracts traded during the 2009 \n",
    "#Which year have  maximum and minimum Number of contracts traded \n",
    "#Which commodity have the average lowest opening price around 2001 to 2005 \n",
    "#Which commodity have the best average  Market's closing price\n",
    "#Which year corn have the highest and lowest Number of contracts traded\n"
   ]
  },
  {
   "cell_type": "code",
   "execution_count": 6,
   "id": "16691af5",
   "metadata": {},
   "outputs": [],
   "source": [
    "dt['date']=pd.to_datetime(dt['date'])"
   ]
  },
  {
   "cell_type": "code",
   "execution_count": 7,
   "id": "355aa89e",
   "metadata": {},
   "outputs": [
    {
     "data": {
      "text/html": [
       "<div>\n",
       "<style scoped>\n",
       "    .dataframe tbody tr th:only-of-type {\n",
       "        vertical-align: middle;\n",
       "    }\n",
       "\n",
       "    .dataframe tbody tr th {\n",
       "        vertical-align: top;\n",
       "    }\n",
       "\n",
       "    .dataframe thead th {\n",
       "        text-align: right;\n",
       "    }\n",
       "</style>\n",
       "<table border=\"1\" class=\"dataframe\">\n",
       "  <thead>\n",
       "    <tr style=\"text-align: right;\">\n",
       "      <th></th>\n",
       "      <th>open</th>\n",
       "      <th>high</th>\n",
       "      <th>low</th>\n",
       "      <th>close</th>\n",
       "      <th>volume</th>\n",
       "    </tr>\n",
       "  </thead>\n",
       "  <tbody>\n",
       "    <tr>\n",
       "      <th>count</th>\n",
       "      <td>34883.000000</td>\n",
       "      <td>34883.000000</td>\n",
       "      <td>34883.000000</td>\n",
       "      <td>34883.000000</td>\n",
       "      <td>34883.000000</td>\n",
       "    </tr>\n",
       "    <tr>\n",
       "      <th>mean</th>\n",
       "      <td>573.890888</td>\n",
       "      <td>579.401570</td>\n",
       "      <td>568.530326</td>\n",
       "      <td>573.880280</td>\n",
       "      <td>27606.105008</td>\n",
       "    </tr>\n",
       "    <tr>\n",
       "      <th>std</th>\n",
       "      <td>458.921582</td>\n",
       "      <td>463.500174</td>\n",
       "      <td>454.580653</td>\n",
       "      <td>458.949972</td>\n",
       "      <td>52347.602634</td>\n",
       "    </tr>\n",
       "    <tr>\n",
       "      <th>min</th>\n",
       "      <td>14.400000</td>\n",
       "      <td>14.410000</td>\n",
       "      <td>14.380000</td>\n",
       "      <td>14.380000</td>\n",
       "      <td>0.000000</td>\n",
       "    </tr>\n",
       "    <tr>\n",
       "      <th>25%</th>\n",
       "      <td>224.500000</td>\n",
       "      <td>226.500000</td>\n",
       "      <td>222.250000</td>\n",
       "      <td>224.250000</td>\n",
       "      <td>78.000000</td>\n",
       "    </tr>\n",
       "    <tr>\n",
       "      <th>50%</th>\n",
       "      <td>435.500000</td>\n",
       "      <td>439.000000</td>\n",
       "      <td>431.750000</td>\n",
       "      <td>435.750000</td>\n",
       "      <td>867.000000</td>\n",
       "    </tr>\n",
       "    <tr>\n",
       "      <th>75%</th>\n",
       "      <td>878.000000</td>\n",
       "      <td>886.500000</td>\n",
       "      <td>869.750000</td>\n",
       "      <td>877.125000</td>\n",
       "      <td>28293.500000</td>\n",
       "    </tr>\n",
       "    <tr>\n",
       "      <th>max</th>\n",
       "      <td>2435.000000</td>\n",
       "      <td>2468.500000</td>\n",
       "      <td>2400.000000</td>\n",
       "      <td>2446.000000</td>\n",
       "      <td>523849.000000</td>\n",
       "    </tr>\n",
       "  </tbody>\n",
       "</table>\n",
       "</div>"
      ],
      "text/plain": [
       "               open          high           low         close         volume\n",
       "count  34883.000000  34883.000000  34883.000000  34883.000000   34883.000000\n",
       "mean     573.890888    579.401570    568.530326    573.880280   27606.105008\n",
       "std      458.921582    463.500174    454.580653    458.949972   52347.602634\n",
       "min       14.400000     14.410000     14.380000     14.380000       0.000000\n",
       "25%      224.500000    226.500000    222.250000    224.250000      78.000000\n",
       "50%      435.500000    439.000000    431.750000    435.750000     867.000000\n",
       "75%      878.000000    886.500000    869.750000    877.125000   28293.500000\n",
       "max     2435.000000   2468.500000   2400.000000   2446.000000  523849.000000"
      ]
     },
     "execution_count": 7,
     "metadata": {},
     "output_type": "execute_result"
    }
   ],
   "source": [
    "dt.describe()"
   ]
  },
  {
   "cell_type": "markdown",
   "id": "7c20a857",
   "metadata": {},
   "source": [
    "# Which commodity was having the highest opening price for the day."
   ]
  },
  {
   "cell_type": "code",
   "execution_count": 8,
   "id": "9b305b85",
   "metadata": {},
   "outputs": [
    {
     "data": {
      "text/plain": [
       "2435.0"
      ]
     },
     "execution_count": 8,
     "metadata": {},
     "output_type": "execute_result"
    }
   ],
   "source": [
    "dt['open'].max()"
   ]
  },
  {
   "cell_type": "code",
   "execution_count": 9,
   "id": "58b4e85a",
   "metadata": {},
   "outputs": [],
   "source": [
    "filt=(dt['open']==2435.0)"
   ]
  },
  {
   "cell_type": "code",
   "execution_count": 10,
   "id": "946ffab8",
   "metadata": {},
   "outputs": [
    {
     "data": {
      "text/plain": [
       "19437    Rough Rice\n",
       "Name: commodity, dtype: object"
      ]
     },
     "execution_count": 10,
     "metadata": {},
     "output_type": "execute_result"
    }
   ],
   "source": [
    "dt.loc[filt]['commodity']"
   ]
  },
  {
   "cell_type": "code",
   "execution_count": 11,
   "id": "b869f039",
   "metadata": {},
   "outputs": [],
   "source": [
    "#Rough Rice has highest opening price for the day which is about Rs.2435.0"
   ]
  },
  {
   "cell_type": "markdown",
   "id": "295d8fcd",
   "metadata": {},
   "source": [
    "# Which commodity price reached  maximum during the trading session."
   ]
  },
  {
   "cell_type": "code",
   "execution_count": 12,
   "id": "d166c0ff",
   "metadata": {},
   "outputs": [],
   "source": [
    "filt=(dt['high']==dt['high'].max())"
   ]
  },
  {
   "cell_type": "code",
   "execution_count": 13,
   "id": "127078d0",
   "metadata": {},
   "outputs": [
    {
     "data": {
      "text/plain": [
       "19437    Rough Rice\n",
       "Name: commodity, dtype: object"
      ]
     },
     "execution_count": 13,
     "metadata": {},
     "output_type": "execute_result"
    }
   ],
   "source": [
    "dt.loc[filt]['commodity']"
   ]
  },
  {
   "cell_type": "code",
   "execution_count": 14,
   "id": "ccb15bf3",
   "metadata": {},
   "outputs": [],
   "source": [
    "#Rough Rice reached maximum during the trade session about Rs.2468.500"
   ]
  },
  {
   "cell_type": "markdown",
   "id": "d0e4da4a",
   "metadata": {},
   "source": [
    "# What is the average Market's opening price for the Oat in 2010"
   ]
  },
  {
   "cell_type": "code",
   "execution_count": 15,
   "id": "7448fe6f",
   "metadata": {},
   "outputs": [],
   "source": [
    "filt=(dt['date']>='2010-01-01')&(dt['date']<='2010-12-31')&(dt['commodity']=='Oat')"
   ]
  },
  {
   "cell_type": "code",
   "execution_count": 16,
   "id": "31b97d02",
   "metadata": {},
   "outputs": [
    {
     "data": {
      "text/plain": [
       "275.11607142857144"
      ]
     },
     "execution_count": 16,
     "metadata": {},
     "output_type": "execute_result"
    }
   ],
   "source": [
    "dt.loc[filt]['open'].mean()"
   ]
  },
  {
   "cell_type": "code",
   "execution_count": 17,
   "id": "14e2bd6f",
   "metadata": {},
   "outputs": [],
   "source": [
    "#The Average market price for 'Oat' in 2010 is RS.275.116"
   ]
  },
  {
   "cell_type": "markdown",
   "id": "fae51d91",
   "metadata": {},
   "source": [
    "# Which commodity have the average lowest opening price around 2001 to 2005 "
   ]
  },
  {
   "cell_type": "code",
   "execution_count": 18,
   "id": "c072d289",
   "metadata": {},
   "outputs": [],
   "source": [
    "filt=(dt['date']>='2001-01-01')&(dt['date']<='2005-12-31')"
   ]
  },
  {
   "cell_type": "code",
   "execution_count": 21,
   "id": "52662e35",
   "metadata": {},
   "outputs": [],
   "source": [
    "pri=dt.loc[filt]"
   ]
  },
  {
   "cell_type": "code",
   "execution_count": 29,
   "id": "6585c3c8",
   "metadata": {},
   "outputs": [],
   "source": [
    "gr=pri.groupby(['commodity'])"
   ]
  },
  {
   "cell_type": "code",
   "execution_count": 26,
   "id": "c683a957",
   "metadata": {},
   "outputs": [
    {
     "data": {
      "text/plain": [
       "commodity\n",
       "Corn            226.167136\n",
       "KC HRW Wheat    343.651033\n",
       "Oat             159.646309\n",
       "Rough Rice      616.746411\n",
       "Soybean         594.099841\n",
       "Soybean Oil      21.416110\n",
       "Name: open, dtype: float64"
      ]
     },
     "execution_count": 26,
     "metadata": {},
     "output_type": "execute_result"
    }
   ],
   "source": [
    "gr['open'].mean()"
   ]
  },
  {
   "cell_type": "code",
   "execution_count": 27,
   "id": "df06a032",
   "metadata": {},
   "outputs": [],
   "source": [
    "#Soyabean Oil has lowest opening price about Rs.21.416"
   ]
  },
  {
   "cell_type": "markdown",
   "id": "c54d1e23",
   "metadata": {},
   "source": [
    "# What is the maximum and minimum Number of contracts traded during the 2009 "
   ]
  },
  {
   "cell_type": "code",
   "execution_count": 185,
   "id": "f0b9f0cd",
   "metadata": {},
   "outputs": [],
   "source": [
    "filt=(dt['date']>='2009-01-01')&(dt['date']<='2009-12-31')"
   ]
  },
  {
   "cell_type": "code",
   "execution_count": 186,
   "id": "9790c6c5",
   "metadata": {},
   "outputs": [
    {
     "data": {
      "text/plain": [
       "252221"
      ]
     },
     "execution_count": 186,
     "metadata": {},
     "output_type": "execute_result"
    }
   ],
   "source": [
    "dt.loc[filt]['volume'].max()"
   ]
  },
  {
   "cell_type": "code",
   "execution_count": 187,
   "id": "78f8da59",
   "metadata": {},
   "outputs": [
    {
     "data": {
      "text/plain": [
       "0"
      ]
     },
     "execution_count": 187,
     "metadata": {},
     "output_type": "execute_result"
    }
   ],
   "source": [
    "dt.loc[filt]['volume'].min()"
   ]
  },
  {
   "cell_type": "code",
   "execution_count": 188,
   "id": "9fa0cc47",
   "metadata": {},
   "outputs": [],
   "source": [
    "#The maximum and minimum number of contracts traded during the 2009 are 252221 and 0"
   ]
  },
  {
   "cell_type": "markdown",
   "id": "a9670e38",
   "metadata": {},
   "source": [
    "# Which commodity have the best average  Market's closing price"
   ]
  },
  {
   "cell_type": "code",
   "execution_count": 222,
   "id": "aa00de62",
   "metadata": {},
   "outputs": [],
   "source": [
    "g=dt.groupby(['commodity'])"
   ]
  },
  {
   "cell_type": "code",
   "execution_count": 223,
   "id": "bd70436f",
   "metadata": {},
   "outputs": [
    {
     "data": {
      "text/plain": [
       "commodity\n",
       "Corn             409.404772\n",
       "KC HRW Wheat     563.693282\n",
       "Oat              278.657674\n",
       "Rough Rice      1143.607925\n",
       "Soybean          998.015728\n",
       "Soybean Oil       36.820361\n",
       "Name: close, dtype: float64"
      ]
     },
     "execution_count": 223,
     "metadata": {},
     "output_type": "execute_result"
    }
   ],
   "source": [
    "g['close'].mean()"
   ]
  },
  {
   "cell_type": "code",
   "execution_count": 234,
   "id": "fa15871a",
   "metadata": {},
   "outputs": [],
   "source": [
    "#Rough Rice has best average market's closing price aboutRs.1143.607 "
   ]
  },
  {
   "cell_type": "markdown",
   "id": "1bd60456",
   "metadata": {},
   "source": [
    "# Which year corn have the highest and lowest Number of contracts traded\n"
   ]
  },
  {
   "cell_type": "code",
   "execution_count": 227,
   "id": "ed619c0c",
   "metadata": {},
   "outputs": [
    {
     "data": {
      "text/plain": [
       "523849"
      ]
     },
     "execution_count": 227,
     "metadata": {},
     "output_type": "execute_result"
    }
   ],
   "source": [
    "g['volume'].max().loc['Corn']"
   ]
  },
  {
   "cell_type": "code",
   "execution_count": 228,
   "id": "8b5492f4",
   "metadata": {},
   "outputs": [
    {
     "data": {
      "text/plain": [
       "0"
      ]
     },
     "execution_count": 228,
     "metadata": {},
     "output_type": "execute_result"
    }
   ],
   "source": [
    "g['volume'].min().loc['Corn']"
   ]
  },
  {
   "cell_type": "code",
   "execution_count": 229,
   "id": "c00d8375",
   "metadata": {},
   "outputs": [],
   "source": [
    "filt=(dt['commodity']=='Corn')&(dt['volume']==523849)"
   ]
  },
  {
   "cell_type": "code",
   "execution_count": 230,
   "id": "8ad59f90",
   "metadata": {},
   "outputs": [
    {
     "data": {
      "text/plain": [
       "4216   2017-06-07\n",
       "Name: date, dtype: datetime64[ns]"
      ]
     },
     "execution_count": 230,
     "metadata": {},
     "output_type": "execute_result"
    }
   ],
   "source": [
    "dt.loc[filt]['date']"
   ]
  },
  {
   "cell_type": "code",
   "execution_count": 231,
   "id": "85457e96",
   "metadata": {},
   "outputs": [],
   "source": [
    "filt=(dt['commodity']=='Corn')&(dt['volume']==0)"
   ]
  },
  {
   "cell_type": "code",
   "execution_count": 232,
   "id": "fc31ce79",
   "metadata": {},
   "outputs": [
    {
     "data": {
      "text/plain": [
       "821    2003-12-11\n",
       "1328   2005-12-13\n",
       "4486   2018-07-03\n",
       "4528   2018-08-31\n",
       "5682   2023-04-06\n",
       "Name: date, dtype: datetime64[ns]"
      ]
     },
     "execution_count": 232,
     "metadata": {},
     "output_type": "execute_result"
    }
   ],
   "source": [
    "dt.loc[filt]['date']"
   ]
  },
  {
   "cell_type": "code",
   "execution_count": 233,
   "id": "a5431870",
   "metadata": {},
   "outputs": [],
   "source": [
    "#In 2017-06-07 Corn have highest number of contracts trade and In 2003,2005,2018,2023 Corn have lowest number of contracts traded"
   ]
  },
  {
   "cell_type": "code",
   "execution_count": null,
   "id": "d19bd03b",
   "metadata": {},
   "outputs": [],
   "source": []
  },
  {
   "cell_type": "code",
   "execution_count": null,
   "id": "ca895209",
   "metadata": {},
   "outputs": [],
   "source": []
  },
  {
   "cell_type": "code",
   "execution_count": null,
   "id": "afbd7cca",
   "metadata": {},
   "outputs": [],
   "source": []
  },
  {
   "cell_type": "code",
   "execution_count": null,
   "id": "e686b1ef",
   "metadata": {},
   "outputs": [],
   "source": []
  },
  {
   "cell_type": "code",
   "execution_count": null,
   "id": "5d3064bf",
   "metadata": {},
   "outputs": [],
   "source": []
  },
  {
   "cell_type": "code",
   "execution_count": null,
   "id": "cba7889d",
   "metadata": {},
   "outputs": [],
   "source": []
  },
  {
   "cell_type": "code",
   "execution_count": null,
   "id": "1df31914",
   "metadata": {},
   "outputs": [],
   "source": []
  }
 ],
 "metadata": {
  "kernelspec": {
   "display_name": "Python 3 (ipykernel)",
   "language": "python",
   "name": "python3"
  },
  "language_info": {
   "codemirror_mode": {
    "name": "ipython",
    "version": 3
   },
   "file_extension": ".py",
   "mimetype": "text/x-python",
   "name": "python",
   "nbconvert_exporter": "python",
   "pygments_lexer": "ipython3",
   "version": "3.11.3"
  }
 },
 "nbformat": 4,
 "nbformat_minor": 5
}
